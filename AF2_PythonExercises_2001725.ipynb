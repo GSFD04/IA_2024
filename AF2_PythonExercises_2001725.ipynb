{
  "cells": [
    {
      "cell_type": "markdown",
      "metadata": {
        "id": "NilnlgNqNeG1"
      },
      "source": [
        "# Artificial Intelligence. Assignament 2: Basics in Python\n",
        "\n",
        "*   Guillermo Sebastian Farias Dominguez\n",
        "*   ID: 2001725\n",
        "*   Class Day: Thursday\n",
        "*   Hour:N4-N6\n",
        "\n",
        "\n",
        "\n"
      ]
    },
    {
      "cell_type": "markdown",
      "metadata": {
        "id": "7s70a-i5Ob1w"
      },
      "source": [
        "# Text Analysis Tool"
      ]
    },
    {
      "cell_type": "code",
      "execution_count": null,
      "metadata": {
        "id": "RJRxp5vPNTfX"
      },
      "outputs": [],
      "source": [
        "#Import libraries\n",
        "import re\n",
        "from collections import Counter"
      ]
    },
    {
      "cell_type": "code",
      "execution_count": null,
      "metadata": {
        "id": "ThRRVoxrOz00"
      },
      "outputs": [],
      "source": [
        "#Define support functions\n",
        "def read_text_file(file_path):\n",
        "    #Reads the content of a text file and returns it as a string.\n",
        "    with open(file_path, 'r', encoding='utf-8') as file:\n",
        "        text = file.read()\n",
        "    return text\n",
        "\n",
        "def count_words(text):\n",
        "    #Counts the number of words in the text.\n",
        "    words = re.findall(r'\\b\\w+\\b', text)\n",
        "    return len(words)\n",
        "\n",
        "def count_sentences(text):\n",
        "    #Counts the number of sentences in the text.\n",
        "    sentences = re.split(r'[.!?]', text)\n",
        "    # Remove empty strings resulting from split\n",
        "    sentences = [sentence for sentence in sentences if sentence.strip()]\n",
        "    return len(sentences)\n",
        "\n",
        "def count_paragraphs(text):\n",
        "    #Counts the number of paragraphs in the text.\n",
        "    paragraphs = text.split('\\n\\n')  # Assume paragraphs are separated by empty lines\n",
        "    # Remove empty paragraphs\n",
        "    paragraphs = [paragraph for paragraph in paragraphs if paragraph.strip()]\n",
        "    return len(paragraphs)\n",
        "\n",
        "def calculate_average_word_length(text):\n",
        "    #Calculates the average word length in the text.\n",
        "    words = re.findall(r'\\b\\w+\\b', text)\n",
        "    total_length = sum(len(word) for word in words)\n",
        "    return total_length / len(words) if words else 0\n",
        "\n",
        "def identify_most_common_words(text, n=10):\n",
        "\n",
        "    #Identifies the most common words and their frequencies in the text.\n",
        "\n",
        "    words = re.findall(r'\\b\\w+\\b', text.lower())\n",
        "    word_counts = Counter(words)\n",
        "    return word_counts.most_common(n)"
      ]
    },
    {
      "cell_type": "code",
      "execution_count": null,
      "metadata": {
        "id": "i_wYmz9qPIRW"
      },
      "outputs": [],
      "source": [
        "#Define the main function\n",
        "def main():\n",
        "    file_path = 'SampleText.txt'  # Provide the path to your text file here\n",
        "    text = read_text_file(file_path)\n",
        "\n",
        "    num_words = count_words(text)\n",
        "    num_sentences = count_sentences(text)\n",
        "    num_paragraphs = count_paragraphs(text)\n",
        "    average_word_length = calculate_average_word_length(text)\n",
        "    most_common_words = identify_most_common_words(text)\n",
        "\n",
        "    print(f\"Number of words: {num_words}\")\n",
        "    print(f\"Number of sentences: {num_sentences}\")\n",
        "    print(f\"Number of paragraphs: {num_paragraphs}\")\n",
        "    print(f\"Average word length: {average_word_length:.2f}\")\n",
        "    print(\"Most common words:\")\n",
        "    for word, frequency in most_common_words:\n",
        "        print(f\"{word}: {frequency}\")"
      ]
    },
    {
      "cell_type": "code",
      "execution_count": null,
      "metadata": {
        "id": "vXFZTHp5PL5I"
      },
      "outputs": [],
      "source": [
        "#Run main function\n",
        "if __name__ == \"__main__\":\n",
        "    main()"
      ]
    },
    {
      "cell_type": "markdown",
      "metadata": {
        "id": "82ZBLYB0PmQM"
      },
      "source": [
        "# Hangman Game"
      ]
    },
    {
      "cell_type": "code",
      "execution_count": null,
      "metadata": {
        "id": "wlWuwjf8PvQo"
      },
      "outputs": [],
      "source": [
        "#Import libraries\n",
        "import random"
      ]
    },
    {
      "cell_type": "code",
      "execution_count": null,
      "metadata": {
        "id": "65Qcu5qqP244"
      },
      "outputs": [],
      "source": [
        "#Define support functions\n",
        "def choose_word():\n",
        "    \"\"\"Selects a word randomly from a predefined list.\"\"\"\n",
        "    word_list = [\"apple\", \"banana\", \"orange\", \"grape\", \"pear\"]\n",
        "    return random.choice(word_list)\n",
        "\n",
        "def display_word(word, guessed_letters):\n",
        "    \"\"\"Displays the word with blanks for letters not guessed.\"\"\"\n",
        "    display = \"\"\n",
        "    for letter in word:\n",
        "        if letter in guessed_letters:\n",
        "            display += letter\n",
        "        else:\n",
        "            display += \"_\"\n",
        "    return display\n",
        "\n",
        "def draw_hangman(attempts):\n",
        "    \"\"\"Draws the Hangman figure based on the number of incorrect guesses.\"\"\"\n",
        "    stages = [\n",
        "        \"\"\"\n",
        "           --------\n",
        "           |      |\n",
        "           |\n",
        "           |\n",
        "           |\n",
        "           |\n",
        "        \"\"\",\n",
        "        \"\"\"\n",
        "           --------\n",
        "           |      |\n",
        "           |      O\n",
        "           |\n",
        "           |\n",
        "           |\n",
        "        \"\"\",\n",
        "        \"\"\"\n",
        "           --------\n",
        "           |      |\n",
        "           |      O\n",
        "           |      |\n",
        "           |\n",
        "           |\n",
        "        \"\"\",\n",
        "        \"\"\"\n",
        "           --------\n",
        "           |      |\n",
        "           |      O\n",
        "           |     /|\n",
        "           |\n",
        "           |\n",
        "        \"\"\",\n",
        "        \"\"\"\n",
        "           --------\n",
        "           |      |\n",
        "           |      O\n",
        "           |     /|\\\\\n",
        "           |\n",
        "           |\n",
        "        \"\"\",\n",
        "        \"\"\"\n",
        "           --------\n",
        "           |      |\n",
        "           |      O\n",
        "           |     /|\\\\\n",
        "           |     /\n",
        "           |\n",
        "        \"\"\",\n",
        "        \"\"\"\n",
        "           --------\n",
        "           |      |\n",
        "           |      x\n",
        "           |     /|\\\\\n",
        "           |     / \\\\\n",
        "           |\n",
        "        \"\"\"\n",
        "    ]\n",
        "    return stages[attempts]"
      ]
    },
    {
      "cell_type": "code",
      "execution_count": null,
      "metadata": {
        "id": "Aapc_MvBP8zQ"
      },
      "outputs": [],
      "source": [
        "#Define the main function\n",
        "def hangman():\n",
        "    \"\"\"Main function to play the Hangman game.\"\"\"\n",
        "    print(\"Welcome to Hangman!\")\n",
        "    word = choose_word()\n",
        "    guessed_letters = []\n",
        "    attempts = 6\n",
        "\n",
        "    while True:\n",
        "        print(\"\\nAttempts left:\", attempts)\n",
        "        print(draw_hangman(6 - attempts))\n",
        "        print(\"Word:\", display_word(word, guessed_letters))\n",
        "\n",
        "        guess = input(\"Guess a letter: \").lower()\n",
        "\n",
        "        if guess in guessed_letters:\n",
        "            print(\"You already guessed that letter. Try again.\")\n",
        "            continue\n",
        "\n",
        "        guessed_letters.append(guess)\n",
        "\n",
        "        if guess in word:\n",
        "            print(\"Correct guess!\")\n",
        "            if all(letter in guessed_letters for letter in word):\n",
        "                print(\"Congratulations! You guessed the word:\", word)\n",
        "                break\n",
        "        else:\n",
        "            print(\"Incorrect guess.\")\n",
        "            attempts -= 1\n",
        "            if attempts == 0:\n",
        "                print(draw_hangman(6 - attempts))\n",
        "                print(\"Sorry, you ran out of attempts. The word was:\", word)\n",
        "                break"
      ]
    },
    {
      "cell_type": "code",
      "execution_count": null,
      "metadata": {
        "id": "2HdbnmVQP-Wx"
      },
      "outputs": [],
      "source": [
        "#Run main function\n",
        "if __name__ == \"__main__\":\n",
        "    hangman()y\n"
      ]
    },
    {
      "cell_type": "markdown",
      "metadata": {
        "id": "hyIcpMQXQLUi"
      },
      "source": [
        "# Number Guessing Game"
      ]
    },
    {
      "cell_type": "code",
      "execution_count": null,
      "metadata": {
        "id": "lLzEortIQQ-c"
      },
      "outputs": [],
      "source": [
        "#Import libraries\n",
        "import random"
      ]
    },
    {
      "cell_type": "code",
      "execution_count": null,
      "metadata": {
        "id": "WunDgcnwQUZ1"
      },
      "outputs": [],
      "source": [
        "#Define the main function\n",
        "def guess_the_number():\n",
        "    # Generate a random number between 1 and 100\n",
        "    target_number = random.randint(1, 100)\n",
        "\n",
        "    # Initialize a variable to keep track of the user's guesses\n",
        "    guessed = False\n",
        "\n",
        "    print(\"Welcome to the Guess the Number game!\")\n",
        "\n",
        "    while not guessed:\n",
        "        # Ask the user for input\n",
        "        guess = int(input(\"Guess the number between 1 and 100: \"))\n",
        "\n",
        "        # Check if the guess is correct\n",
        "        if guess == target_number:\n",
        "            print(\"Congratulations! You guessed the number correctly.\")\n",
        "            guessed = True\n",
        "        # Provide hints if the guess is not correct\n",
        "        elif guess < target_number:\n",
        "            print(\"The number is greater than your guess. Try again!\")\n",
        "        else:\n",
        "            print(\"The number is less than your guess. Try again!\")"
      ]
    },
    {
      "cell_type": "code",
      "execution_count": null,
      "metadata": {
        "id": "ZWVwQ6dZQY43"
      },
      "outputs": [],
      "source": [
        "# Run the game\n",
        "if __name__ == \"__main__\":\n",
        "    guess_the_number()"
      ]
    }
  ],
  "metadata": {
    "colab": {
      "provenance": [],
      "toc_visible": true
    },
    "kernelspec": {
      "display_name": "Python 3",
      "name": "python3"
    },
    "language_info": {
      "name": "python"
    }
  },
  "nbformat": 4,
  "nbformat_minor": 0
}